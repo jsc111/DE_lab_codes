{
 "cells": [
  {
   "cell_type": "code",
   "execution_count": 1,
   "id": "e32eacae-9862-4150-8d70-f6c3cb8d9759",
   "metadata": {},
   "outputs": [
    {
     "name": "stdout",
     "output_type": "stream",
     "text": [
      "Collecting apyori\n",
      "  Downloading apyori-1.1.2.tar.gz (8.6 kB)\n",
      "  Preparing metadata (setup.py): started\n",
      "  Preparing metadata (setup.py): finished with status 'done'\n",
      "Building wheels for collected packages: apyori\n",
      "  Building wheel for apyori (setup.py): started\n",
      "  Building wheel for apyori (setup.py): finished with status 'done'\n",
      "  Created wheel for apyori: filename=apyori-1.1.2-py3-none-any.whl size=5974 sha256=09ebd60b3581945b8344dc100516829288088f0196d29405cd322586d0b35cf8\n",
      "  Stored in directory: c:\\users\\jai chavan\\appdata\\local\\pip\\cache\\wheels\\c4\\1a\\79\\20f55c470a50bb3702a8cb7c94d8ada15573538c7f4baebe2d\n",
      "Successfully built apyori\n",
      "Installing collected packages: apyori\n",
      "Successfully installed apyori-1.1.2\n"
     ]
    }
   ],
   "source": [
    "!pip install apyori"
   ]
  },
  {
   "cell_type": "code",
   "execution_count": 2,
   "id": "60b92a70-2fdc-474a-9858-3e9bc8107599",
   "metadata": {},
   "outputs": [],
   "source": [
    "import numpy as np\n",
    "import pandas as pd\n",
    "import matplotlib.pyplot as plt\n",
    "from apyori import apriori"
   ]
  },
  {
   "cell_type": "code",
   "execution_count": 3,
   "id": "8a5c2d52-6477-405d-9ced-11e1061a1d43",
   "metadata": {},
   "outputs": [
    {
     "data": {
      "text/html": [
       "<div>\n",
       "<style scoped>\n",
       "    .dataframe tbody tr th:only-of-type {\n",
       "        vertical-align: middle;\n",
       "    }\n",
       "\n",
       "    .dataframe tbody tr th {\n",
       "        vertical-align: top;\n",
       "    }\n",
       "\n",
       "    .dataframe thead th {\n",
       "        text-align: right;\n",
       "    }\n",
       "</style>\n",
       "<table border=\"1\" class=\"dataframe\">\n",
       "  <thead>\n",
       "    <tr style=\"text-align: right;\">\n",
       "      <th></th>\n",
       "      <th>0</th>\n",
       "      <th>1</th>\n",
       "      <th>2</th>\n",
       "      <th>3</th>\n",
       "      <th>4</th>\n",
       "      <th>5</th>\n",
       "      <th>6</th>\n",
       "      <th>7</th>\n",
       "      <th>8</th>\n",
       "      <th>9</th>\n",
       "      <th>...</th>\n",
       "      <th>22</th>\n",
       "      <th>23</th>\n",
       "      <th>24</th>\n",
       "      <th>25</th>\n",
       "      <th>26</th>\n",
       "      <th>27</th>\n",
       "      <th>28</th>\n",
       "      <th>29</th>\n",
       "      <th>30</th>\n",
       "      <th>31</th>\n",
       "    </tr>\n",
       "  </thead>\n",
       "  <tbody>\n",
       "    <tr>\n",
       "      <th>0</th>\n",
       "      <td>Cobra Kai</td>\n",
       "      <td>Lupin</td>\n",
       "      <td>12 Monkeys</td>\n",
       "      <td>Sherlock</td>\n",
       "      <td>NaN</td>\n",
       "      <td>NaN</td>\n",
       "      <td>NaN</td>\n",
       "      <td>NaN</td>\n",
       "      <td>NaN</td>\n",
       "      <td>NaN</td>\n",
       "      <td>...</td>\n",
       "      <td>NaN</td>\n",
       "      <td>NaN</td>\n",
       "      <td>NaN</td>\n",
       "      <td>NaN</td>\n",
       "      <td>NaN</td>\n",
       "      <td>NaN</td>\n",
       "      <td>NaN</td>\n",
       "      <td>NaN</td>\n",
       "      <td>NaN</td>\n",
       "      <td>NaN</td>\n",
       "    </tr>\n",
       "    <tr>\n",
       "      <th>1</th>\n",
       "      <td>Lost</td>\n",
       "      <td>Jack Ryan</td>\n",
       "      <td>The Flash</td>\n",
       "      <td>Game of thrones</td>\n",
       "      <td>House of Cards</td>\n",
       "      <td>12 Monkeys</td>\n",
       "      <td>Vikings</td>\n",
       "      <td>Fringe</td>\n",
       "      <td>The Mentalist</td>\n",
       "      <td>The Alienist</td>\n",
       "      <td>...</td>\n",
       "      <td>NaN</td>\n",
       "      <td>NaN</td>\n",
       "      <td>NaN</td>\n",
       "      <td>NaN</td>\n",
       "      <td>NaN</td>\n",
       "      <td>NaN</td>\n",
       "      <td>NaN</td>\n",
       "      <td>NaN</td>\n",
       "      <td>NaN</td>\n",
       "      <td>NaN</td>\n",
       "    </tr>\n",
       "    <tr>\n",
       "      <th>2</th>\n",
       "      <td>Sex Education</td>\n",
       "      <td>Dr. House</td>\n",
       "      <td>Kingdom</td>\n",
       "      <td>The Walking Dead</td>\n",
       "      <td>NaN</td>\n",
       "      <td>NaN</td>\n",
       "      <td>NaN</td>\n",
       "      <td>NaN</td>\n",
       "      <td>NaN</td>\n",
       "      <td>NaN</td>\n",
       "      <td>...</td>\n",
       "      <td>NaN</td>\n",
       "      <td>NaN</td>\n",
       "      <td>NaN</td>\n",
       "      <td>NaN</td>\n",
       "      <td>NaN</td>\n",
       "      <td>NaN</td>\n",
       "      <td>NaN</td>\n",
       "      <td>NaN</td>\n",
       "      <td>NaN</td>\n",
       "      <td>NaN</td>\n",
       "    </tr>\n",
       "    <tr>\n",
       "      <th>3</th>\n",
       "      <td>Ozark</td>\n",
       "      <td>Sex Education</td>\n",
       "      <td>Constantine</td>\n",
       "      <td>Preacher</td>\n",
       "      <td>Vikings</td>\n",
       "      <td>The Tick</td>\n",
       "      <td>NaN</td>\n",
       "      <td>NaN</td>\n",
       "      <td>NaN</td>\n",
       "      <td>NaN</td>\n",
       "      <td>...</td>\n",
       "      <td>NaN</td>\n",
       "      <td>NaN</td>\n",
       "      <td>NaN</td>\n",
       "      <td>NaN</td>\n",
       "      <td>NaN</td>\n",
       "      <td>NaN</td>\n",
       "      <td>NaN</td>\n",
       "      <td>NaN</td>\n",
       "      <td>NaN</td>\n",
       "      <td>NaN</td>\n",
       "    </tr>\n",
       "    <tr>\n",
       "      <th>4</th>\n",
       "      <td>Naruto</td>\n",
       "      <td>NaN</td>\n",
       "      <td>NaN</td>\n",
       "      <td>NaN</td>\n",
       "      <td>NaN</td>\n",
       "      <td>NaN</td>\n",
       "      <td>NaN</td>\n",
       "      <td>NaN</td>\n",
       "      <td>NaN</td>\n",
       "      <td>NaN</td>\n",
       "      <td>...</td>\n",
       "      <td>NaN</td>\n",
       "      <td>NaN</td>\n",
       "      <td>NaN</td>\n",
       "      <td>NaN</td>\n",
       "      <td>NaN</td>\n",
       "      <td>NaN</td>\n",
       "      <td>NaN</td>\n",
       "      <td>NaN</td>\n",
       "      <td>NaN</td>\n",
       "      <td>NaN</td>\n",
       "    </tr>\n",
       "  </tbody>\n",
       "</table>\n",
       "<p>5 rows × 32 columns</p>\n",
       "</div>"
      ],
      "text/plain": [
       "              0              1            2                 3   \\\n",
       "0      Cobra Kai          Lupin   12 Monkeys          Sherlock   \n",
       "1           Lost      Jack Ryan    The Flash   Game of thrones   \n",
       "2  Sex Education      Dr. House      Kingdom  The Walking Dead   \n",
       "3          Ozark  Sex Education  Constantine          Preacher   \n",
       "4         Naruto            NaN          NaN               NaN   \n",
       "\n",
       "               4           5        6       7              8             9   \\\n",
       "0             NaN         NaN      NaN     NaN            NaN           NaN   \n",
       "1  House of Cards  12 Monkeys  Vikings  Fringe  The Mentalist  The Alienist   \n",
       "2             NaN         NaN      NaN     NaN            NaN           NaN   \n",
       "3         Vikings    The Tick      NaN     NaN            NaN           NaN   \n",
       "4             NaN         NaN      NaN     NaN            NaN           NaN   \n",
       "\n",
       "   ...   22   23   24   25   26   27   28   29   30   31  \n",
       "0  ...  NaN  NaN  NaN  NaN  NaN  NaN  NaN  NaN  NaN  NaN  \n",
       "1  ...  NaN  NaN  NaN  NaN  NaN  NaN  NaN  NaN  NaN  NaN  \n",
       "2  ...  NaN  NaN  NaN  NaN  NaN  NaN  NaN  NaN  NaN  NaN  \n",
       "3  ...  NaN  NaN  NaN  NaN  NaN  NaN  NaN  NaN  NaN  NaN  \n",
       "4  ...  NaN  NaN  NaN  NaN  NaN  NaN  NaN  NaN  NaN  NaN  \n",
       "\n",
       "[5 rows x 32 columns]"
      ]
     },
     "metadata": {},
     "output_type": "display_data"
    },
    {
     "name": "stdout",
     "output_type": "stream",
     "text": [
      "(9690, 32)\n"
     ]
    }
   ],
   "source": [
    "store_data = pd.read_csv(\"datasets\\tv-shows.csv\", header=None)\n",
    "display(store_data.head())\n",
    "print(store_data.shape)"
   ]
  },
  {
   "cell_type": "code",
   "execution_count": 5,
   "id": "e3975a07-4595-4763-a512-99ddd66be3d3",
   "metadata": {},
   "outputs": [],
   "source": [
    "records = []\n",
    "for i in range(1, 9690):\n",
    "    records.append([str(store_data.values[i, j]) for j in range(0, 20)])"
   ]
  },
  {
   "cell_type": "code",
   "execution_count": 6,
   "id": "6663e67d-38d8-4542-8ee4-16fb89e9bf2a",
   "metadata": {},
   "outputs": [
    {
     "name": "stdout",
     "output_type": "stream",
     "text": [
      "<class 'list'>\n"
     ]
    }
   ],
   "source": [
    "print(type(records))"
   ]
  },
  {
   "cell_type": "code",
   "execution_count": 7,
   "id": "715c1569-1517-4629-961f-f6487320af74",
   "metadata": {},
   "outputs": [],
   "source": [
    "association_rules = apriori(records, min_support=0.0075, min_confidence=0.3, min_lift=3, min_length=2)\n",
    "association_results = list(association_rules)"
   ]
  },
  {
   "cell_type": "code",
   "execution_count": 8,
   "id": "7a7b950e-225c-4c9b-a033-a7c81da69777",
   "metadata": {},
   "outputs": [
    {
     "name": "stdout",
     "output_type": "stream",
     "text": [
      "[RelationRecord(items=frozenset({'Mr. Robot', 'Queen of the South'}), support=0.017339250696666322, ordered_statistics=[OrderedStatistic(items_base=frozenset({'Queen of the South'}), items_add=frozenset({'Mr. Robot'}), confidence=0.32941176470588235, lift=3.011009988901221)]), RelationRecord(items=frozenset({'The Blacklist', 'Mr. Robot', 'Atypical'}), support=0.008256786046031582, ordered_statistics=[OrderedStatistic(items_base=frozenset({'Mr. Robot', 'Atypical'}), items_add=frozenset({'The Blacklist'}), confidence=0.31872509960159356, lift=3.039495561062835)]), RelationRecord(items=frozenset({'Ozark', 'Mr. Robot', 'Cobra Kai'}), support=0.010424192383114872, ordered_statistics=[OrderedStatistic(items_base=frozenset({'Mr. Robot', 'Cobra Kai'}), items_add=frozenset({'Ozark'}), confidence=0.5872093023255814, lift=3.0311512681047197), OrderedStatistic(items_base=frozenset({'Ozark', 'Cobra Kai'}), items_add=frozenset({'Mr. Robot'}), confidence=0.3607142857142857, lift=3.2971327493261455)]), RelationRecord(items=frozenset({'Ozark', 'Cobra Kai', 'The Blacklist'}), support=0.009185674476210135, ordered_statistics=[OrderedStatistic(items_base=frozenset({'Ozark', 'Cobra Kai'}), items_add=frozenset({'The Blacklist'}), confidence=0.31785714285714284, lift=3.0312183633295837)]), RelationRecord(items=frozenset({'Ozark', 'Demon Slayer', 'The Blacklist'}), support=0.009598513778511715, ordered_statistics=[OrderedStatistic(items_base=frozenset({'Ozark', 'Demon Slayer'}), items_add=frozenset({'The Blacklist'}), confidence=0.3675889328063241, lift=3.50548146649653)]), RelationRecord(items=frozenset({'Ozark', 'Mr. Robot', 'Queen of the South'}), support=0.008050366394880793, ordered_statistics=[OrderedStatistic(items_base=frozenset({'Ozark', 'Queen of the South'}), items_add=frozenset({'Mr. Robot'}), confidence=0.40414507772020725, lift=3.6941147717274414)]), RelationRecord(items=frozenset({'Ozark', 'Mr. Robot', 'The Blacklist'}), support=0.012488388894622768, ordered_statistics=[OrderedStatistic(items_base=frozenset({'The Blacklist', 'Mr. Robot'}), items_add=frozenset({'Ozark'}), confidence=0.5931372549019607, lift=3.0617511255967487), OrderedStatistic(items_base=frozenset({'Ozark', 'The Blacklist'}), items_add=frozenset({'Mr. Robot'}), confidence=0.34870317002881845, lift=3.1873443532162473)]), RelationRecord(items=frozenset({'Mr. Robot', 'Sex Education', 'Queen of the South'}), support=0.008050366394880793, ordered_statistics=[OrderedStatistic(items_base=frozenset({'Sex Education', 'Queen of the South'}), items_add=frozenset({'Mr. Robot'}), confidence=0.37681159420289856, lift=3.444271260596117)]), RelationRecord(items=frozenset({'Ozark', 'Mr. Robot', 'Sex Education', 'Atypical'}), support=0.007843946743730004, ordered_statistics=[OrderedStatistic(items_base=frozenset({'Mr. Robot', 'Atypical'}), items_add=frozenset({'Ozark', 'Sex Education'}), confidence=0.30278884462151395, lift=4.029836697167375), OrderedStatistic(items_base=frozenset({'Ozark', 'Sex Education', 'Atypical'}), items_add=frozenset({'Mr. Robot'}), confidence=0.3502304147465438, lift=3.201304234414399)]), RelationRecord(items=frozenset({'Ozark', 'Sex Education', 'Atypical', 'The Blacklist'}), support=0.0077407369181546086, ordered_statistics=[OrderedStatistic(items_base=frozenset({'Ozark', 'Sex Education', 'Atypical'}), items_add=frozenset({'The Blacklist'}), confidence=0.3456221198156682, lift=3.2959967705649698), OrderedStatistic(items_base=frozenset({'Ozark', 'Sex Education', 'The Blacklist'}), items_add=frozenset({'Atypical'}), confidence=0.44910179640718567, lift=3.2089581898150605)]), RelationRecord(items=frozenset({'Ozark', 'Mr. Robot', 'nan', 'Cobra Kai'}), support=0.009804933429662504, ordered_statistics=[OrderedStatistic(items_base=frozenset({'Ozark', 'Cobra Kai'}), items_add=frozenset({'Mr. Robot', 'nan'}), confidence=0.33928571428571425, lift=3.160903159340659), OrderedStatistic(items_base=frozenset({'Ozark', 'nan', 'Cobra Kai'}), items_add=frozenset({'Mr. Robot'}), confidence=0.35315985130111527, lift=3.2280809426948167)]), RelationRecord(items=frozenset({'Ozark', 'nan', 'Demon Slayer', 'The Blacklist'}), support=0.008669625348333161, ordered_statistics=[OrderedStatistic(items_base=frozenset({'Ozark', 'Demon Slayer'}), items_add=frozenset({'The Blacklist', 'nan'}), confidence=0.3320158102766798, lift=3.2461162318574677), OrderedStatistic(items_base=frozenset({'Ozark', 'nan', 'Demon Slayer'}), items_add=frozenset({'The Blacklist'}), confidence=0.34854771784232363, lift=3.3238964942660174)]), RelationRecord(items=frozenset({'Ozark', 'Mr. Robot', 'nan', 'The Blacklist'}), support=0.011249870987718031, ordered_statistics=[OrderedStatistic(items_base=frozenset({'Ozark', 'nan', 'The Blacklist'}), items_add=frozenset({'Mr. Robot'}), confidence=0.33231707317073167, lift=3.037566152784169)])]\n"
     ]
    }
   ],
   "source": [
    "print(association_results)"
   ]
  },
  {
   "cell_type": "code",
   "execution_count": 9,
   "id": "d3e7cb0e-e78b-47af-b845-ca6e30c8f062",
   "metadata": {},
   "outputs": [
    {
     "name": "stdout",
     "output_type": "stream",
     "text": [
      "There are 13 Relation derived.\n"
     ]
    }
   ],
   "source": [
    "print(\"There are {} Relation derived.\".format(len(association_results)))"
   ]
  },
  {
   "cell_type": "code",
   "execution_count": 10,
   "id": "cca06cc8-089f-4fe0-bf59-36853cc570ac",
   "metadata": {},
   "outputs": [
    {
     "name": "stdout",
     "output_type": "stream",
     "text": [
      "frozenset({'Mr. Robot', 'Queen of the South'})\n",
      "frozenset({'The Blacklist', 'Mr. Robot', 'Atypical'})\n",
      "frozenset({'Ozark', 'Mr. Robot', 'Cobra Kai'})\n",
      "frozenset({'Ozark', 'Cobra Kai', 'The Blacklist'})\n",
      "frozenset({'Ozark', 'Demon Slayer', 'The Blacklist'})\n",
      "frozenset({'Ozark', 'Mr. Robot', 'Queen of the South'})\n",
      "frozenset({'Ozark', 'Mr. Robot', 'The Blacklist'})\n",
      "frozenset({'Mr. Robot', 'Sex Education', 'Queen of the South'})\n",
      "frozenset({'Ozark', 'Mr. Robot', 'Sex Education', 'Atypical'})\n",
      "frozenset({'Ozark', 'Sex Education', 'Atypical', 'The Blacklist'})\n",
      "frozenset({'Ozark', 'Mr. Robot', 'nan', 'Cobra Kai'})\n",
      "frozenset({'Ozark', 'nan', 'Demon Slayer', 'The Blacklist'})\n",
      "frozenset({'Ozark', 'Mr. Robot', 'nan', 'The Blacklist'})\n"
     ]
    }
   ],
   "source": [
    "for i in range(0, len(association_results)):\n",
    "    print(association_results[i][0])"
   ]
  },
  {
   "cell_type": "code",
   "execution_count": 11,
   "id": "267c3aed-2dd0-4f52-ba8e-9a88ee202827",
   "metadata": {},
   "outputs": [
    {
     "name": "stdout",
     "output_type": "stream",
     "text": [
      "Rule: Mr. Robot -> Queen of the South\n",
      "Support: 0.017339250696666322\n",
      "Confidence: 0.32941176470588235\n",
      "Lift: 3.011009988901221\n",
      "=====================================\n",
      "Rule: The Blacklist -> Mr. Robot\n",
      "Support: 0.008256786046031582\n",
      "Confidence: 0.31872509960159356\n",
      "Lift: 3.039495561062835\n",
      "=====================================\n",
      "Rule: Ozark -> Mr. Robot\n",
      "Support: 0.010424192383114872\n",
      "Confidence: 0.5872093023255814\n",
      "Lift: 3.0311512681047197\n",
      "=====================================\n",
      "Rule: Ozark -> Cobra Kai\n",
      "Support: 0.009185674476210135\n",
      "Confidence: 0.31785714285714284\n",
      "Lift: 3.0312183633295837\n",
      "=====================================\n",
      "Rule: Ozark -> Demon Slayer\n",
      "Support: 0.009598513778511715\n",
      "Confidence: 0.3675889328063241\n",
      "Lift: 3.50548146649653\n",
      "=====================================\n",
      "Rule: Ozark -> Mr. Robot\n",
      "Support: 0.008050366394880793\n",
      "Confidence: 0.40414507772020725\n",
      "Lift: 3.6941147717274414\n",
      "=====================================\n",
      "Rule: Ozark -> Mr. Robot\n",
      "Support: 0.012488388894622768\n",
      "Confidence: 0.5931372549019607\n",
      "Lift: 3.0617511255967487\n",
      "=====================================\n",
      "Rule: Mr. Robot -> Sex Education\n",
      "Support: 0.008050366394880793\n",
      "Confidence: 0.37681159420289856\n",
      "Lift: 3.444271260596117\n",
      "=====================================\n",
      "Rule: Ozark -> Mr. Robot\n",
      "Support: 0.007843946743730004\n",
      "Confidence: 0.30278884462151395\n",
      "Lift: 4.029836697167375\n",
      "=====================================\n",
      "Rule: Ozark -> Sex Education\n",
      "Support: 0.0077407369181546086\n",
      "Confidence: 0.3456221198156682\n",
      "Lift: 3.2959967705649698\n",
      "=====================================\n",
      "Rule: Ozark -> Mr. Robot\n",
      "Support: 0.009804933429662504\n",
      "Confidence: 0.33928571428571425\n",
      "Lift: 3.160903159340659\n",
      "=====================================\n",
      "Rule: Ozark -> nan\n",
      "Support: 0.008669625348333161\n",
      "Confidence: 0.3320158102766798\n",
      "Lift: 3.2461162318574677\n",
      "=====================================\n",
      "Rule: Ozark -> Mr. Robot\n",
      "Support: 0.011249870987718031\n",
      "Confidence: 0.33231707317073167\n",
      "Lift: 3.037566152784169\n",
      "=====================================\n"
     ]
    }
   ],
   "source": [
    "for item in association_results:\n",
    "    # first index of the inner list\n",
    "    # Contains base item and add item\n",
    "    pair = item[0]\n",
    "    items = [x for x in pair]\n",
    "    print(\"Rule: \" + items[0] + \" -> \" + items[1])\n",
    "    # second index of the inner list\n",
    "    print(\"Support: \" + str(item[1]))\n",
    "    # third index of the list located at 0th\n",
    "    # of the third index of the inner list\n",
    "    print(\"Confidence: \" + str(item[2][0][2]))\n",
    "    print(\"Lift: \" + str(item[2][0][3]))\n",
    "    print(\"====================================\")"
   ]
  },
  {
   "cell_type": "code",
   "execution_count": null,
   "id": "7054f425-f9ed-48c8-8b8c-e0cefa5d4137",
   "metadata": {},
   "outputs": [],
   "source": [
    " "
   ]
  }
 ],
 "metadata": {
  "kernelspec": {
   "display_name": "Python 3 (ipykernel)",
   "language": "python",
   "name": "python3"
  },
  "language_info": {
   "codemirror_mode": {
    "name": "ipython",
    "version": 3
   },
   "file_extension": ".py",
   "mimetype": "text/x-python",
   "name": "python",
   "nbconvert_exporter": "python",
   "pygments_lexer": "ipython3",
   "version": "3.10.8"
  }
 },
 "nbformat": 4,
 "nbformat_minor": 5
}
